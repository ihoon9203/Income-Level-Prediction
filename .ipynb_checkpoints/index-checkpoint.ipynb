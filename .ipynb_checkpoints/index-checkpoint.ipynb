{
 "cells": [
  {
   "cell_type": "markdown",
   "id": "e5e9c0f0",
   "metadata": {},
   "source": [
    "# Preprocessing"
   ]
  },
  {
   "cell_type": "code",
   "execution_count": 1,
   "id": "56cc7a8e",
   "metadata": {},
   "outputs": [],
   "source": [
    "import pandas as pd\n",
    "import numpy as np\n",
    "import matplotlib as mlb"
   ]
  },
  {
   "cell_type": "code",
   "execution_count": 2,
   "id": "68271f4b",
   "metadata": {},
   "outputs": [],
   "source": [
    "train = pd.read_csv('./ilp2021f/train_final.csv')\n",
    "test = pd.read_csv('./ilp2021f/test_final.csv')"
   ]
  },
  {
   "cell_type": "code",
   "execution_count": null,
   "id": "08cb9c3f",
   "metadata": {},
   "outputs": [],
   "source": []
  },
  {
   "cell_type": "code",
   "execution_count": 3,
   "id": "e82a682b",
   "metadata": {},
   "outputs": [],
   "source": [
    "train_y = train[[\"income>50K\"]]\n",
    "train_X = train[['age','workclass','fnlwgt','education','education.num','marital.status','occupation','relationship','race','sex','capital.gain','capital.loss','hours.per.week','native.country']]\n",
    "test_X = test[['age','workclass','fnlwgt','education','education.num','marital.status','occupation','relationship','race','sex','capital.gain','capital.loss','hours.per.week','native.country']]"
   ]
  },
  {
   "cell_type": "code",
   "execution_count": 4,
   "id": "286622f5",
   "metadata": {},
   "outputs": [],
   "source": [
    "train_X = train_X.replace('?',np.NaN)\n",
    "test_X = test_X.replace('?',np.NaN)\n",
    "\n",
    "train_X = train_X.fillna(train.mode().iloc[0])\n",
    "test_X = test_X.fillna(test.mode().iloc[0])"
   ]
  },
  {
   "cell_type": "markdown",
   "id": "0c12d9e1",
   "metadata": {},
   "source": []
  },
  {
   "cell_type": "code",
   "execution_count": 5,
   "id": "0d433ca7",
   "metadata": {},
   "outputs": [
    {
     "data": {
      "text/html": [
       "<div>\n",
       "<style scoped>\n",
       "    .dataframe tbody tr th:only-of-type {\n",
       "        vertical-align: middle;\n",
       "    }\n",
       "\n",
       "    .dataframe tbody tr th {\n",
       "        vertical-align: top;\n",
       "    }\n",
       "\n",
       "    .dataframe thead th {\n",
       "        text-align: right;\n",
       "    }\n",
       "</style>\n",
       "<table border=\"1\" class=\"dataframe\">\n",
       "  <thead>\n",
       "    <tr style=\"text-align: right;\">\n",
       "      <th></th>\n",
       "      <th>age</th>\n",
       "      <th>workclass</th>\n",
       "      <th>fnlwgt</th>\n",
       "      <th>education</th>\n",
       "      <th>education.num</th>\n",
       "      <th>marital.status</th>\n",
       "      <th>occupation</th>\n",
       "      <th>relationship</th>\n",
       "      <th>race</th>\n",
       "      <th>sex</th>\n",
       "      <th>capital.gain</th>\n",
       "      <th>capital.loss</th>\n",
       "      <th>hours.per.week</th>\n",
       "      <th>native.country</th>\n",
       "    </tr>\n",
       "  </thead>\n",
       "  <tbody>\n",
       "    <tr>\n",
       "      <th>0</th>\n",
       "      <td>53</td>\n",
       "      <td>Self-emp-not-inc</td>\n",
       "      <td>93449</td>\n",
       "      <td>Prof-school</td>\n",
       "      <td>15</td>\n",
       "      <td>Married-civ-spouse</td>\n",
       "      <td>Prof-specialty</td>\n",
       "      <td>Husband</td>\n",
       "      <td>Asian-Pac-Islander</td>\n",
       "      <td>Male</td>\n",
       "      <td>0</td>\n",
       "      <td>0</td>\n",
       "      <td>40</td>\n",
       "      <td>India</td>\n",
       "    </tr>\n",
       "    <tr>\n",
       "      <th>1</th>\n",
       "      <td>33</td>\n",
       "      <td>Self-emp-not-inc</td>\n",
       "      <td>123424</td>\n",
       "      <td>Bachelors</td>\n",
       "      <td>13</td>\n",
       "      <td>Married-civ-spouse</td>\n",
       "      <td>Exec-managerial</td>\n",
       "      <td>Husband</td>\n",
       "      <td>White</td>\n",
       "      <td>Male</td>\n",
       "      <td>0</td>\n",
       "      <td>0</td>\n",
       "      <td>40</td>\n",
       "      <td>United-States</td>\n",
       "    </tr>\n",
       "    <tr>\n",
       "      <th>2</th>\n",
       "      <td>47</td>\n",
       "      <td>Private</td>\n",
       "      <td>144844</td>\n",
       "      <td>HS-grad</td>\n",
       "      <td>9</td>\n",
       "      <td>Married-civ-spouse</td>\n",
       "      <td>Craft-repair</td>\n",
       "      <td>Husband</td>\n",
       "      <td>White</td>\n",
       "      <td>Male</td>\n",
       "      <td>0</td>\n",
       "      <td>0</td>\n",
       "      <td>40</td>\n",
       "      <td>United-States</td>\n",
       "    </tr>\n",
       "    <tr>\n",
       "      <th>3</th>\n",
       "      <td>40</td>\n",
       "      <td>Private</td>\n",
       "      <td>114580</td>\n",
       "      <td>HS-grad</td>\n",
       "      <td>9</td>\n",
       "      <td>Divorced</td>\n",
       "      <td>Craft-repair</td>\n",
       "      <td>Other-relative</td>\n",
       "      <td>White</td>\n",
       "      <td>Female</td>\n",
       "      <td>0</td>\n",
       "      <td>0</td>\n",
       "      <td>40</td>\n",
       "      <td>Vietnam</td>\n",
       "    </tr>\n",
       "    <tr>\n",
       "      <th>4</th>\n",
       "      <td>39</td>\n",
       "      <td>Private</td>\n",
       "      <td>115618</td>\n",
       "      <td>HS-grad</td>\n",
       "      <td>9</td>\n",
       "      <td>Married-civ-spouse</td>\n",
       "      <td>Transport-moving</td>\n",
       "      <td>Husband</td>\n",
       "      <td>White</td>\n",
       "      <td>Male</td>\n",
       "      <td>0</td>\n",
       "      <td>0</td>\n",
       "      <td>50</td>\n",
       "      <td>United-States</td>\n",
       "    </tr>\n",
       "    <tr>\n",
       "      <th>...</th>\n",
       "      <td>...</td>\n",
       "      <td>...</td>\n",
       "      <td>...</td>\n",
       "      <td>...</td>\n",
       "      <td>...</td>\n",
       "      <td>...</td>\n",
       "      <td>...</td>\n",
       "      <td>...</td>\n",
       "      <td>...</td>\n",
       "      <td>...</td>\n",
       "      <td>...</td>\n",
       "      <td>...</td>\n",
       "      <td>...</td>\n",
       "      <td>...</td>\n",
       "    </tr>\n",
       "    <tr>\n",
       "      <th>24995</th>\n",
       "      <td>18</td>\n",
       "      <td>Private</td>\n",
       "      <td>83451</td>\n",
       "      <td>HS-grad</td>\n",
       "      <td>9</td>\n",
       "      <td>Never-married</td>\n",
       "      <td>Adm-clerical</td>\n",
       "      <td>Not-in-family</td>\n",
       "      <td>White</td>\n",
       "      <td>Female</td>\n",
       "      <td>0</td>\n",
       "      <td>0</td>\n",
       "      <td>25</td>\n",
       "      <td>United-States</td>\n",
       "    </tr>\n",
       "    <tr>\n",
       "      <th>24996</th>\n",
       "      <td>64</td>\n",
       "      <td>Local-gov</td>\n",
       "      <td>202738</td>\n",
       "      <td>HS-grad</td>\n",
       "      <td>9</td>\n",
       "      <td>Married-civ-spouse</td>\n",
       "      <td>Adm-clerical</td>\n",
       "      <td>Wife</td>\n",
       "      <td>White</td>\n",
       "      <td>Female</td>\n",
       "      <td>0</td>\n",
       "      <td>0</td>\n",
       "      <td>35</td>\n",
       "      <td>United-States</td>\n",
       "    </tr>\n",
       "    <tr>\n",
       "      <th>24997</th>\n",
       "      <td>39</td>\n",
       "      <td>Private</td>\n",
       "      <td>225544</td>\n",
       "      <td>Masters</td>\n",
       "      <td>14</td>\n",
       "      <td>Married-civ-spouse</td>\n",
       "      <td>Transport-moving</td>\n",
       "      <td>Husband</td>\n",
       "      <td>White</td>\n",
       "      <td>Male</td>\n",
       "      <td>0</td>\n",
       "      <td>0</td>\n",
       "      <td>40</td>\n",
       "      <td>Poland</td>\n",
       "    </tr>\n",
       "    <tr>\n",
       "      <th>24998</th>\n",
       "      <td>53</td>\n",
       "      <td>Private</td>\n",
       "      <td>346871</td>\n",
       "      <td>HS-grad</td>\n",
       "      <td>9</td>\n",
       "      <td>Divorced</td>\n",
       "      <td>Prof-specialty</td>\n",
       "      <td>Not-in-family</td>\n",
       "      <td>White</td>\n",
       "      <td>Male</td>\n",
       "      <td>4787</td>\n",
       "      <td>0</td>\n",
       "      <td>46</td>\n",
       "      <td>United-States</td>\n",
       "    </tr>\n",
       "    <tr>\n",
       "      <th>24999</th>\n",
       "      <td>18</td>\n",
       "      <td>Private</td>\n",
       "      <td>192321</td>\n",
       "      <td>Some-college</td>\n",
       "      <td>10</td>\n",
       "      <td>Never-married</td>\n",
       "      <td>Prof-specialty</td>\n",
       "      <td>Own-child</td>\n",
       "      <td>White</td>\n",
       "      <td>Male</td>\n",
       "      <td>0</td>\n",
       "      <td>0</td>\n",
       "      <td>40</td>\n",
       "      <td>United-States</td>\n",
       "    </tr>\n",
       "  </tbody>\n",
       "</table>\n",
       "<p>25000 rows × 14 columns</p>\n",
       "</div>"
      ],
      "text/plain": [
       "       age         workclass  fnlwgt     education  education.num  \\\n",
       "0       53  Self-emp-not-inc   93449   Prof-school             15   \n",
       "1       33  Self-emp-not-inc  123424     Bachelors             13   \n",
       "2       47           Private  144844       HS-grad              9   \n",
       "3       40           Private  114580       HS-grad              9   \n",
       "4       39           Private  115618       HS-grad              9   \n",
       "...    ...               ...     ...           ...            ...   \n",
       "24995   18           Private   83451       HS-grad              9   \n",
       "24996   64         Local-gov  202738       HS-grad              9   \n",
       "24997   39           Private  225544       Masters             14   \n",
       "24998   53           Private  346871       HS-grad              9   \n",
       "24999   18           Private  192321  Some-college             10   \n",
       "\n",
       "           marital.status        occupation    relationship  \\\n",
       "0      Married-civ-spouse    Prof-specialty         Husband   \n",
       "1      Married-civ-spouse   Exec-managerial         Husband   \n",
       "2      Married-civ-spouse      Craft-repair         Husband   \n",
       "3                Divorced      Craft-repair  Other-relative   \n",
       "4      Married-civ-spouse  Transport-moving         Husband   \n",
       "...                   ...               ...             ...   \n",
       "24995       Never-married      Adm-clerical   Not-in-family   \n",
       "24996  Married-civ-spouse      Adm-clerical            Wife   \n",
       "24997  Married-civ-spouse  Transport-moving         Husband   \n",
       "24998            Divorced    Prof-specialty   Not-in-family   \n",
       "24999       Never-married    Prof-specialty       Own-child   \n",
       "\n",
       "                     race     sex  capital.gain  capital.loss  hours.per.week  \\\n",
       "0      Asian-Pac-Islander    Male             0             0              40   \n",
       "1                   White    Male             0             0              40   \n",
       "2                   White    Male             0             0              40   \n",
       "3                   White  Female             0             0              40   \n",
       "4                   White    Male             0             0              50   \n",
       "...                   ...     ...           ...           ...             ...   \n",
       "24995               White  Female             0             0              25   \n",
       "24996               White  Female             0             0              35   \n",
       "24997               White    Male             0             0              40   \n",
       "24998               White    Male          4787             0              46   \n",
       "24999               White    Male             0             0              40   \n",
       "\n",
       "      native.country  \n",
       "0              India  \n",
       "1      United-States  \n",
       "2      United-States  \n",
       "3            Vietnam  \n",
       "4      United-States  \n",
       "...              ...  \n",
       "24995  United-States  \n",
       "24996  United-States  \n",
       "24997         Poland  \n",
       "24998  United-States  \n",
       "24999  United-States  \n",
       "\n",
       "[25000 rows x 14 columns]"
      ]
     },
     "execution_count": 5,
     "metadata": {},
     "output_type": "execute_result"
    }
   ],
   "source": [
    "train_X"
   ]
  },
  {
   "cell_type": "code",
   "execution_count": 6,
   "id": "fa79da39",
   "metadata": {},
   "outputs": [],
   "source": [
    "label_workclass = train_X['workclass'].unique()\n",
    "label_education = train_X['education'].unique()\n",
    "label_maritalstatus = train_X['marital.status'].unique()\n",
    "label_relationship = train_X['relationship'].unique()\n",
    "label_race = train_X['race'].unique()\n",
    "label_sex = train_X['sex'].unique()"
   ]
  },
  {
   "cell_type": "markdown",
   "id": "c2cacb76",
   "metadata": {},
   "source": [
    "labeling model for Occupation and Native Country will be constructed by sum of test and train"
   ]
  },
  {
   "cell_type": "code",
   "execution_count": 7,
   "id": "b111fb1d",
   "metadata": {},
   "outputs": [],
   "source": [
    "label_occupation = np.unique(np.append(test_X['occupation'].unique(),test_X['occupation'].unique()))\n",
    "label_native = np.unique((test_X['native.country'].unique(),test_X['native.country'].unique()))"
   ]
  },
  {
   "cell_type": "code",
   "execution_count": 8,
   "id": "f4ddd72b",
   "metadata": {},
   "outputs": [
    {
     "data": {
      "text/plain": [
       "array(['Adm-clerical', 'Armed-Forces', 'Craft-repair', 'Exec-managerial',\n",
       "       'Farming-fishing', 'Handlers-cleaners', 'Machine-op-inspct',\n",
       "       'Other-service', 'Priv-house-serv', 'Prof-specialty',\n",
       "       'Protective-serv', 'Sales', 'Tech-support', 'Transport-moving'],\n",
       "      dtype=object)"
      ]
     },
     "execution_count": 8,
     "metadata": {},
     "output_type": "execute_result"
    }
   ],
   "source": [
    "label_occupation"
   ]
  },
  {
   "cell_type": "code",
   "execution_count": 9,
   "id": "bf60b4b9",
   "metadata": {},
   "outputs": [],
   "source": [
    "from sklearn import preprocessing"
   ]
  },
  {
   "cell_type": "code",
   "execution_count": 10,
   "id": "bb5fd852",
   "metadata": {},
   "outputs": [],
   "source": [
    "workclass = preprocessing.LabelEncoder()\n",
    "native = preprocessing.LabelEncoder()\n",
    "education = preprocessing.LabelEncoder()\n",
    "occupation = preprocessing.LabelEncoder()\n",
    "marital = preprocessing.LabelEncoder()\n",
    "relation = preprocessing.LabelEncoder()\n",
    "race = preprocessing.LabelEncoder()\n",
    "sex = preprocessing.LabelEncoder()"
   ]
  },
  {
   "cell_type": "code",
   "execution_count": 11,
   "id": "cf1cff52",
   "metadata": {},
   "outputs": [
    {
     "data": {
      "text/plain": [
       "LabelEncoder()"
      ]
     },
     "execution_count": 11,
     "metadata": {},
     "output_type": "execute_result"
    }
   ],
   "source": [
    "workclass"
   ]
  },
  {
   "cell_type": "code",
   "execution_count": 12,
   "id": "98b87307",
   "metadata": {},
   "outputs": [
    {
     "data": {
      "text/plain": [
       "LabelEncoder()"
      ]
     },
     "execution_count": 12,
     "metadata": {},
     "output_type": "execute_result"
    }
   ],
   "source": [
    "native.fit(label_native)\n",
    "occupation.fit(label_occupation)\n",
    "education.fit(label_education)\n",
    "marital.fit(label_maritalstatus)\n",
    "relation.fit(label_relationship)\n",
    "race.fit(label_race)\n",
    "workclass.fit(label_workclass)\n",
    "sex.fit(label_sex)"
   ]
  },
  {
   "cell_type": "code",
   "execution_count": 13,
   "id": "33fe3331",
   "metadata": {},
   "outputs": [
    {
     "data": {
      "text/plain": [
       "0          Prof-specialty\n",
       "1         Exec-managerial\n",
       "2            Craft-repair\n",
       "3            Craft-repair\n",
       "4        Transport-moving\n",
       "               ...       \n",
       "24995        Adm-clerical\n",
       "24996        Adm-clerical\n",
       "24997    Transport-moving\n",
       "24998      Prof-specialty\n",
       "24999      Prof-specialty\n",
       "Name: occupation, Length: 25000, dtype: object"
      ]
     },
     "execution_count": 13,
     "metadata": {},
     "output_type": "execute_result"
    }
   ],
   "source": [
    "train_X['occupation']"
   ]
  },
  {
   "cell_type": "code",
   "execution_count": 14,
   "id": "956f5abc",
   "metadata": {},
   "outputs": [],
   "source": [
    "train_occ = occupation.transform(train_X['occupation'])\n",
    "train_marital = marital.transform(train_X['marital.status'])\n",
    "train_relation = relation.transform(train_X['relationship'])\n",
    "train_race = race.transform(train_X['race'])\n",
    "train_sex = sex.transform(train_X['sex'])\n",
    "train_work = workclass.transform(train_X['workclass'])\n",
    "train_native = native.transform(train_X['native.country'])\n",
    "train_education = education.transform(train_X['education'])\n",
    "\n",
    "test_occ = occupation.transform(test_X['occupation'])\n",
    "test_marital = marital.transform(test_X['marital.status'])\n",
    "test_relation = relation.transform(test_X['relationship'])\n",
    "test_race = race.transform(test_X['race'])\n",
    "test_sex = sex.transform(test_X['sex'])\n",
    "test_work = workclass.transform(test_X['workclass'])\n",
    "test_native = native.transform(test_X['native.country'])\n",
    "test_education = education.transform(test_X['education'])"
   ]
  },
  {
   "cell_type": "code",
   "execution_count": 15,
   "id": "150b292d",
   "metadata": {},
   "outputs": [],
   "source": [
    "train_X['occupation'] = train_occ\n",
    "train_X['marital.status'] = train_marital\n",
    "train_X['race'] = train_race\n",
    "train_X['relationship'] = train_relation\n",
    "train_X['sex'] = train_sex\n",
    "train_X['workclass'] = train_work\n",
    "train_X['native.country'] = train_native\n",
    "train_X['education'] = train_education"
   ]
  },
  {
   "cell_type": "code",
   "execution_count": 16,
   "id": "9e5b336f",
   "metadata": {},
   "outputs": [
    {
     "data": {
      "text/html": [
       "<div>\n",
       "<style scoped>\n",
       "    .dataframe tbody tr th:only-of-type {\n",
       "        vertical-align: middle;\n",
       "    }\n",
       "\n",
       "    .dataframe tbody tr th {\n",
       "        vertical-align: top;\n",
       "    }\n",
       "\n",
       "    .dataframe thead th {\n",
       "        text-align: right;\n",
       "    }\n",
       "</style>\n",
       "<table border=\"1\" class=\"dataframe\">\n",
       "  <thead>\n",
       "    <tr style=\"text-align: right;\">\n",
       "      <th></th>\n",
       "      <th>age</th>\n",
       "      <th>workclass</th>\n",
       "      <th>fnlwgt</th>\n",
       "      <th>education</th>\n",
       "      <th>education.num</th>\n",
       "      <th>marital.status</th>\n",
       "      <th>occupation</th>\n",
       "      <th>relationship</th>\n",
       "      <th>race</th>\n",
       "      <th>sex</th>\n",
       "      <th>capital.gain</th>\n",
       "      <th>capital.loss</th>\n",
       "      <th>hours.per.week</th>\n",
       "      <th>native.country</th>\n",
       "    </tr>\n",
       "  </thead>\n",
       "  <tbody>\n",
       "    <tr>\n",
       "      <th>0</th>\n",
       "      <td>53</td>\n",
       "      <td>5</td>\n",
       "      <td>93449</td>\n",
       "      <td>14</td>\n",
       "      <td>15</td>\n",
       "      <td>2</td>\n",
       "      <td>9</td>\n",
       "      <td>0</td>\n",
       "      <td>1</td>\n",
       "      <td>1</td>\n",
       "      <td>0</td>\n",
       "      <td>0</td>\n",
       "      <td>40</td>\n",
       "      <td>18</td>\n",
       "    </tr>\n",
       "    <tr>\n",
       "      <th>1</th>\n",
       "      <td>33</td>\n",
       "      <td>5</td>\n",
       "      <td>123424</td>\n",
       "      <td>9</td>\n",
       "      <td>13</td>\n",
       "      <td>2</td>\n",
       "      <td>3</td>\n",
       "      <td>0</td>\n",
       "      <td>4</td>\n",
       "      <td>1</td>\n",
       "      <td>0</td>\n",
       "      <td>0</td>\n",
       "      <td>40</td>\n",
       "      <td>38</td>\n",
       "    </tr>\n",
       "    <tr>\n",
       "      <th>2</th>\n",
       "      <td>47</td>\n",
       "      <td>3</td>\n",
       "      <td>144844</td>\n",
       "      <td>11</td>\n",
       "      <td>9</td>\n",
       "      <td>2</td>\n",
       "      <td>2</td>\n",
       "      <td>0</td>\n",
       "      <td>4</td>\n",
       "      <td>1</td>\n",
       "      <td>0</td>\n",
       "      <td>0</td>\n",
       "      <td>40</td>\n",
       "      <td>38</td>\n",
       "    </tr>\n",
       "    <tr>\n",
       "      <th>3</th>\n",
       "      <td>40</td>\n",
       "      <td>3</td>\n",
       "      <td>114580</td>\n",
       "      <td>11</td>\n",
       "      <td>9</td>\n",
       "      <td>0</td>\n",
       "      <td>2</td>\n",
       "      <td>2</td>\n",
       "      <td>4</td>\n",
       "      <td>0</td>\n",
       "      <td>0</td>\n",
       "      <td>0</td>\n",
       "      <td>40</td>\n",
       "      <td>39</td>\n",
       "    </tr>\n",
       "    <tr>\n",
       "      <th>4</th>\n",
       "      <td>39</td>\n",
       "      <td>3</td>\n",
       "      <td>115618</td>\n",
       "      <td>11</td>\n",
       "      <td>9</td>\n",
       "      <td>2</td>\n",
       "      <td>13</td>\n",
       "      <td>0</td>\n",
       "      <td>4</td>\n",
       "      <td>1</td>\n",
       "      <td>0</td>\n",
       "      <td>0</td>\n",
       "      <td>50</td>\n",
       "      <td>38</td>\n",
       "    </tr>\n",
       "    <tr>\n",
       "      <th>...</th>\n",
       "      <td>...</td>\n",
       "      <td>...</td>\n",
       "      <td>...</td>\n",
       "      <td>...</td>\n",
       "      <td>...</td>\n",
       "      <td>...</td>\n",
       "      <td>...</td>\n",
       "      <td>...</td>\n",
       "      <td>...</td>\n",
       "      <td>...</td>\n",
       "      <td>...</td>\n",
       "      <td>...</td>\n",
       "      <td>...</td>\n",
       "      <td>...</td>\n",
       "    </tr>\n",
       "    <tr>\n",
       "      <th>24995</th>\n",
       "      <td>18</td>\n",
       "      <td>3</td>\n",
       "      <td>83451</td>\n",
       "      <td>11</td>\n",
       "      <td>9</td>\n",
       "      <td>4</td>\n",
       "      <td>0</td>\n",
       "      <td>1</td>\n",
       "      <td>4</td>\n",
       "      <td>0</td>\n",
       "      <td>0</td>\n",
       "      <td>0</td>\n",
       "      <td>25</td>\n",
       "      <td>38</td>\n",
       "    </tr>\n",
       "    <tr>\n",
       "      <th>24996</th>\n",
       "      <td>64</td>\n",
       "      <td>1</td>\n",
       "      <td>202738</td>\n",
       "      <td>11</td>\n",
       "      <td>9</td>\n",
       "      <td>2</td>\n",
       "      <td>0</td>\n",
       "      <td>5</td>\n",
       "      <td>4</td>\n",
       "      <td>0</td>\n",
       "      <td>0</td>\n",
       "      <td>0</td>\n",
       "      <td>35</td>\n",
       "      <td>38</td>\n",
       "    </tr>\n",
       "    <tr>\n",
       "      <th>24997</th>\n",
       "      <td>39</td>\n",
       "      <td>3</td>\n",
       "      <td>225544</td>\n",
       "      <td>12</td>\n",
       "      <td>14</td>\n",
       "      <td>2</td>\n",
       "      <td>13</td>\n",
       "      <td>0</td>\n",
       "      <td>4</td>\n",
       "      <td>1</td>\n",
       "      <td>0</td>\n",
       "      <td>0</td>\n",
       "      <td>40</td>\n",
       "      <td>30</td>\n",
       "    </tr>\n",
       "    <tr>\n",
       "      <th>24998</th>\n",
       "      <td>53</td>\n",
       "      <td>3</td>\n",
       "      <td>346871</td>\n",
       "      <td>11</td>\n",
       "      <td>9</td>\n",
       "      <td>0</td>\n",
       "      <td>9</td>\n",
       "      <td>1</td>\n",
       "      <td>4</td>\n",
       "      <td>1</td>\n",
       "      <td>4787</td>\n",
       "      <td>0</td>\n",
       "      <td>46</td>\n",
       "      <td>38</td>\n",
       "    </tr>\n",
       "    <tr>\n",
       "      <th>24999</th>\n",
       "      <td>18</td>\n",
       "      <td>3</td>\n",
       "      <td>192321</td>\n",
       "      <td>15</td>\n",
       "      <td>10</td>\n",
       "      <td>4</td>\n",
       "      <td>9</td>\n",
       "      <td>3</td>\n",
       "      <td>4</td>\n",
       "      <td>1</td>\n",
       "      <td>0</td>\n",
       "      <td>0</td>\n",
       "      <td>40</td>\n",
       "      <td>38</td>\n",
       "    </tr>\n",
       "  </tbody>\n",
       "</table>\n",
       "<p>25000 rows × 14 columns</p>\n",
       "</div>"
      ],
      "text/plain": [
       "       age  workclass  fnlwgt  education  education.num  marital.status  \\\n",
       "0       53          5   93449         14             15               2   \n",
       "1       33          5  123424          9             13               2   \n",
       "2       47          3  144844         11              9               2   \n",
       "3       40          3  114580         11              9               0   \n",
       "4       39          3  115618         11              9               2   \n",
       "...    ...        ...     ...        ...            ...             ...   \n",
       "24995   18          3   83451         11              9               4   \n",
       "24996   64          1  202738         11              9               2   \n",
       "24997   39          3  225544         12             14               2   \n",
       "24998   53          3  346871         11              9               0   \n",
       "24999   18          3  192321         15             10               4   \n",
       "\n",
       "       occupation  relationship  race  sex  capital.gain  capital.loss  \\\n",
       "0               9             0     1    1             0             0   \n",
       "1               3             0     4    1             0             0   \n",
       "2               2             0     4    1             0             0   \n",
       "3               2             2     4    0             0             0   \n",
       "4              13             0     4    1             0             0   \n",
       "...           ...           ...   ...  ...           ...           ...   \n",
       "24995           0             1     4    0             0             0   \n",
       "24996           0             5     4    0             0             0   \n",
       "24997          13             0     4    1             0             0   \n",
       "24998           9             1     4    1          4787             0   \n",
       "24999           9             3     4    1             0             0   \n",
       "\n",
       "       hours.per.week  native.country  \n",
       "0                  40              18  \n",
       "1                  40              38  \n",
       "2                  40              38  \n",
       "3                  40              39  \n",
       "4                  50              38  \n",
       "...               ...             ...  \n",
       "24995              25              38  \n",
       "24996              35              38  \n",
       "24997              40              30  \n",
       "24998              46              38  \n",
       "24999              40              38  \n",
       "\n",
       "[25000 rows x 14 columns]"
      ]
     },
     "execution_count": 16,
     "metadata": {},
     "output_type": "execute_result"
    }
   ],
   "source": [
    "train_X"
   ]
  },
  {
   "cell_type": "code",
   "execution_count": 17,
   "id": "f0570b6a",
   "metadata": {},
   "outputs": [],
   "source": [
    "test_X['occupation'] = test_occ\n",
    "test_X['marital.status'] = test_marital\n",
    "test_X['race'] = test_race\n",
    "test_X['relationship'] = test_relation\n",
    "test_X['sex'] = test_sex\n",
    "test_X['workclass'] = test_work\n",
    "test_X['native.country'] = test_native\n",
    "test_X['education'] = test_education"
   ]
  },
  {
   "cell_type": "code",
   "execution_count": 18,
   "id": "e3eee6f9",
   "metadata": {},
   "outputs": [
    {
     "data": {
      "text/html": [
       "<div>\n",
       "<style scoped>\n",
       "    .dataframe tbody tr th:only-of-type {\n",
       "        vertical-align: middle;\n",
       "    }\n",
       "\n",
       "    .dataframe tbody tr th {\n",
       "        vertical-align: top;\n",
       "    }\n",
       "\n",
       "    .dataframe thead th {\n",
       "        text-align: right;\n",
       "    }\n",
       "</style>\n",
       "<table border=\"1\" class=\"dataframe\">\n",
       "  <thead>\n",
       "    <tr style=\"text-align: right;\">\n",
       "      <th></th>\n",
       "      <th>age</th>\n",
       "      <th>workclass</th>\n",
       "      <th>fnlwgt</th>\n",
       "      <th>education</th>\n",
       "      <th>education.num</th>\n",
       "      <th>marital.status</th>\n",
       "      <th>occupation</th>\n",
       "      <th>relationship</th>\n",
       "      <th>race</th>\n",
       "      <th>sex</th>\n",
       "      <th>capital.gain</th>\n",
       "      <th>capital.loss</th>\n",
       "      <th>hours.per.week</th>\n",
       "      <th>native.country</th>\n",
       "    </tr>\n",
       "  </thead>\n",
       "  <tbody>\n",
       "    <tr>\n",
       "      <th>0</th>\n",
       "      <td>33</td>\n",
       "      <td>5</td>\n",
       "      <td>222162</td>\n",
       "      <td>11</td>\n",
       "      <td>9</td>\n",
       "      <td>2</td>\n",
       "      <td>2</td>\n",
       "      <td>0</td>\n",
       "      <td>4</td>\n",
       "      <td>1</td>\n",
       "      <td>0</td>\n",
       "      <td>0</td>\n",
       "      <td>40</td>\n",
       "      <td>38</td>\n",
       "    </tr>\n",
       "    <tr>\n",
       "      <th>1</th>\n",
       "      <td>68</td>\n",
       "      <td>3</td>\n",
       "      <td>29240</td>\n",
       "      <td>11</td>\n",
       "      <td>9</td>\n",
       "      <td>6</td>\n",
       "      <td>9</td>\n",
       "      <td>1</td>\n",
       "      <td>4</td>\n",
       "      <td>0</td>\n",
       "      <td>0</td>\n",
       "      <td>0</td>\n",
       "      <td>12</td>\n",
       "      <td>38</td>\n",
       "    </tr>\n",
       "    <tr>\n",
       "      <th>2</th>\n",
       "      <td>34</td>\n",
       "      <td>3</td>\n",
       "      <td>103596</td>\n",
       "      <td>11</td>\n",
       "      <td>9</td>\n",
       "      <td>2</td>\n",
       "      <td>5</td>\n",
       "      <td>0</td>\n",
       "      <td>4</td>\n",
       "      <td>1</td>\n",
       "      <td>0</td>\n",
       "      <td>0</td>\n",
       "      <td>40</td>\n",
       "      <td>38</td>\n",
       "    </tr>\n",
       "    <tr>\n",
       "      <th>3</th>\n",
       "      <td>57</td>\n",
       "      <td>3</td>\n",
       "      <td>103403</td>\n",
       "      <td>4</td>\n",
       "      <td>3</td>\n",
       "      <td>2</td>\n",
       "      <td>13</td>\n",
       "      <td>0</td>\n",
       "      <td>4</td>\n",
       "      <td>1</td>\n",
       "      <td>0</td>\n",
       "      <td>0</td>\n",
       "      <td>40</td>\n",
       "      <td>38</td>\n",
       "    </tr>\n",
       "    <tr>\n",
       "      <th>4</th>\n",
       "      <td>48</td>\n",
       "      <td>3</td>\n",
       "      <td>152915</td>\n",
       "      <td>15</td>\n",
       "      <td>10</td>\n",
       "      <td>4</td>\n",
       "      <td>0</td>\n",
       "      <td>1</td>\n",
       "      <td>4</td>\n",
       "      <td>0</td>\n",
       "      <td>0</td>\n",
       "      <td>0</td>\n",
       "      <td>40</td>\n",
       "      <td>38</td>\n",
       "    </tr>\n",
       "    <tr>\n",
       "      <th>...</th>\n",
       "      <td>...</td>\n",
       "      <td>...</td>\n",
       "      <td>...</td>\n",
       "      <td>...</td>\n",
       "      <td>...</td>\n",
       "      <td>...</td>\n",
       "      <td>...</td>\n",
       "      <td>...</td>\n",
       "      <td>...</td>\n",
       "      <td>...</td>\n",
       "      <td>...</td>\n",
       "      <td>...</td>\n",
       "      <td>...</td>\n",
       "      <td>...</td>\n",
       "    </tr>\n",
       "    <tr>\n",
       "      <th>23837</th>\n",
       "      <td>26</td>\n",
       "      <td>3</td>\n",
       "      <td>43408</td>\n",
       "      <td>9</td>\n",
       "      <td>13</td>\n",
       "      <td>2</td>\n",
       "      <td>9</td>\n",
       "      <td>0</td>\n",
       "      <td>4</td>\n",
       "      <td>1</td>\n",
       "      <td>0</td>\n",
       "      <td>0</td>\n",
       "      <td>40</td>\n",
       "      <td>38</td>\n",
       "    </tr>\n",
       "    <tr>\n",
       "      <th>23838</th>\n",
       "      <td>27</td>\n",
       "      <td>3</td>\n",
       "      <td>116372</td>\n",
       "      <td>9</td>\n",
       "      <td>13</td>\n",
       "      <td>4</td>\n",
       "      <td>9</td>\n",
       "      <td>1</td>\n",
       "      <td>4</td>\n",
       "      <td>0</td>\n",
       "      <td>0</td>\n",
       "      <td>0</td>\n",
       "      <td>40</td>\n",
       "      <td>38</td>\n",
       "    </tr>\n",
       "    <tr>\n",
       "      <th>23839</th>\n",
       "      <td>67</td>\n",
       "      <td>4</td>\n",
       "      <td>182581</td>\n",
       "      <td>15</td>\n",
       "      <td>10</td>\n",
       "      <td>2</td>\n",
       "      <td>3</td>\n",
       "      <td>0</td>\n",
       "      <td>4</td>\n",
       "      <td>1</td>\n",
       "      <td>20051</td>\n",
       "      <td>0</td>\n",
       "      <td>20</td>\n",
       "      <td>38</td>\n",
       "    </tr>\n",
       "    <tr>\n",
       "      <th>23840</th>\n",
       "      <td>46</td>\n",
       "      <td>1</td>\n",
       "      <td>274689</td>\n",
       "      <td>7</td>\n",
       "      <td>12</td>\n",
       "      <td>0</td>\n",
       "      <td>10</td>\n",
       "      <td>1</td>\n",
       "      <td>4</td>\n",
       "      <td>1</td>\n",
       "      <td>0</td>\n",
       "      <td>0</td>\n",
       "      <td>40</td>\n",
       "      <td>38</td>\n",
       "    </tr>\n",
       "    <tr>\n",
       "      <th>23841</th>\n",
       "      <td>66</td>\n",
       "      <td>0</td>\n",
       "      <td>47358</td>\n",
       "      <td>0</td>\n",
       "      <td>6</td>\n",
       "      <td>2</td>\n",
       "      <td>2</td>\n",
       "      <td>0</td>\n",
       "      <td>4</td>\n",
       "      <td>1</td>\n",
       "      <td>3471</td>\n",
       "      <td>0</td>\n",
       "      <td>40</td>\n",
       "      <td>38</td>\n",
       "    </tr>\n",
       "  </tbody>\n",
       "</table>\n",
       "<p>23842 rows × 14 columns</p>\n",
       "</div>"
      ],
      "text/plain": [
       "       age  workclass  fnlwgt  education  education.num  marital.status  \\\n",
       "0       33          5  222162         11              9               2   \n",
       "1       68          3   29240         11              9               6   \n",
       "2       34          3  103596         11              9               2   \n",
       "3       57          3  103403          4              3               2   \n",
       "4       48          3  152915         15             10               4   \n",
       "...    ...        ...     ...        ...            ...             ...   \n",
       "23837   26          3   43408          9             13               2   \n",
       "23838   27          3  116372          9             13               4   \n",
       "23839   67          4  182581         15             10               2   \n",
       "23840   46          1  274689          7             12               0   \n",
       "23841   66          0   47358          0              6               2   \n",
       "\n",
       "       occupation  relationship  race  sex  capital.gain  capital.loss  \\\n",
       "0               2             0     4    1             0             0   \n",
       "1               9             1     4    0             0             0   \n",
       "2               5             0     4    1             0             0   \n",
       "3              13             0     4    1             0             0   \n",
       "4               0             1     4    0             0             0   \n",
       "...           ...           ...   ...  ...           ...           ...   \n",
       "23837           9             0     4    1             0             0   \n",
       "23838           9             1     4    0             0             0   \n",
       "23839           3             0     4    1         20051             0   \n",
       "23840          10             1     4    1             0             0   \n",
       "23841           2             0     4    1          3471             0   \n",
       "\n",
       "       hours.per.week  native.country  \n",
       "0                  40              38  \n",
       "1                  12              38  \n",
       "2                  40              38  \n",
       "3                  40              38  \n",
       "4                  40              38  \n",
       "...               ...             ...  \n",
       "23837              40              38  \n",
       "23838              40              38  \n",
       "23839              20              38  \n",
       "23840              40              38  \n",
       "23841              40              38  \n",
       "\n",
       "[23842 rows x 14 columns]"
      ]
     },
     "execution_count": 18,
     "metadata": {},
     "output_type": "execute_result"
    }
   ],
   "source": [
    "test_X"
   ]
  },
  {
   "cell_type": "markdown",
   "id": "84323f49",
   "metadata": {},
   "source": [
    "# XGBoost Implementation"
   ]
  },
  {
   "cell_type": "code",
   "execution_count": 19,
   "id": "59f58e0c",
   "metadata": {},
   "outputs": [],
   "source": [
    "import xgboost as xgb"
   ]
  },
  {
   "cell_type": "markdown",
   "id": "7410ea71",
   "metadata": {},
   "source": [
    "setting column as categorical type"
   ]
  },
  {
   "cell_type": "code",
   "execution_count": 20,
   "id": "e7b53827",
   "metadata": {},
   "outputs": [
    {
     "data": {
      "text/plain": [
       "0        11\n",
       "1        11\n",
       "2        11\n",
       "3         4\n",
       "4        15\n",
       "         ..\n",
       "23837     9\n",
       "23838     9\n",
       "23839    15\n",
       "23840     7\n",
       "23841     0\n",
       "Name: education, Length: 23842, dtype: category\n",
       "Categories (16, int64): [0, 1, 2, 3, ..., 12, 13, 14, 15]"
      ]
     },
     "execution_count": 20,
     "metadata": {},
     "output_type": "execute_result"
    }
   ],
   "source": [
    "train_X['occupation'].astype(\"category\")\n",
    "train_X['marital.status'].astype(\"category\")\n",
    "train_X['race'].astype(\"category\")\n",
    "train_X['relationship'].astype(\"category\")\n",
    "train_X['sex'].astype(\"category\")\n",
    "train_X['workclass'].astype(\"category\")\n",
    "train_X['native.country'].astype(\"category\")\n",
    "train_X['education'].astype(\"category\")\n",
    "\n",
    "test_X['occupation'].astype(\"category\")\n",
    "test_X['marital.status'].astype(\"category\")\n",
    "test_X['race'].astype(\"category\")\n",
    "test_X['relationship'].astype(\"category\")\n",
    "test_X['sex'].astype(\"category\")\n",
    "test_X['workclass'].astype(\"category\")\n",
    "test_X['native.country'].astype(\"category\")\n",
    "test_X['education'].astype(\"category\")"
   ]
  },
  {
   "cell_type": "code",
   "execution_count": 50,
   "id": "1fc3aa2d",
   "metadata": {},
   "outputs": [],
   "source": [
    "clf = xgb.XGBClassifier(\n",
    "    tree_method=\"gpu_hist\", enable_categorical=True, use_label_encoder=False, eta= 0.1\n",
    ")"
   ]
  },
  {
   "cell_type": "code",
   "execution_count": 51,
   "id": "c84d6d1d",
   "metadata": {},
   "outputs": [
    {
     "name": "stderr",
     "output_type": "stream",
     "text": [
      "C:\\Users\\Jeonghoon\\anaconda3\\lib\\site-packages\\xgboost\\sklearn.py:1224: UserWarning: The use of label encoder in XGBClassifier is deprecated and will be removed in a future release. To remove this warning, do the following: 1) Pass option use_label_encoder=False when constructing XGBClassifier object; and 2) Encode your labels (y) as integers starting with 0, i.e. 0, 1, 2, ..., [num_class - 1].\n",
      "  warnings.warn(label_encoder_deprecation_msg, UserWarning)\n",
      "C:\\Users\\Jeonghoon\\anaconda3\\lib\\site-packages\\sklearn\\utils\\validation.py:63: DataConversionWarning: A column-vector y was passed when a 1d array was expected. Please change the shape of y to (n_samples, ), for example using ravel().\n",
      "  return f(*args, **kwargs)\n"
     ]
    },
    {
     "name": "stdout",
     "output_type": "stream",
     "text": [
      "[05:00:46] WARNING: C:/Users/Administrator/workspace/xgboost-win64_release_1.5.1/src/learner.cc:1115: Starting in XGBoost 1.3.0, the default evaluation metric used with the objective 'binary:logistic' was changed from 'error' to 'logloss'. Explicitly set eval_metric if you'd like to restore the old behavior.\n"
     ]
    },
    {
     "data": {
      "text/plain": [
       "XGBClassifier(base_score=0.5, booster='gbtree', colsample_bylevel=1,\n",
       "              colsample_bynode=1, colsample_bytree=1, enable_categorical=True,\n",
       "              eta=0.1, gamma=0, gpu_id=0, importance_type=None,\n",
       "              interaction_constraints='', learning_rate=0.100000001,\n",
       "              max_delta_step=0, max_depth=6, min_child_weight=1, missing=nan,\n",
       "              monotone_constraints='()', n_estimators=100, n_jobs=12,\n",
       "              num_parallel_tree=1, predictor='auto', random_state=0,\n",
       "              reg_alpha=0, reg_lambda=1, scale_pos_weight=1, subsample=1,\n",
       "              tree_method='gpu_hist', validate_parameters=1, verbosity=None)"
      ]
     },
     "execution_count": 51,
     "metadata": {},
     "output_type": "execute_result"
    }
   ],
   "source": [
    "clf.fit(train_X,train_y)"
   ]
  },
  {
   "cell_type": "code",
   "execution_count": 39,
   "id": "fa03f81d",
   "metadata": {},
   "outputs": [],
   "source": [
    "clf.save_model(\"categorical-model.json\")"
   ]
  },
  {
   "cell_type": "code",
   "execution_count": 40,
   "id": "96712cb0",
   "metadata": {},
   "outputs": [],
   "source": [
    "import matplotlib.pyplot as plt"
   ]
  },
  {
   "cell_type": "code",
   "execution_count": 41,
   "id": "aacf8dc6",
   "metadata": {},
   "outputs": [
    {
     "data": {
      "text/plain": [
       "array([0.03968827, 0.01813508, 0.01226721, 0.00932288, 0.13990109,\n",
       "       0.07245128, 0.03258259, 0.42298114, 0.01289624, 0.01682558,\n",
       "       0.12754858, 0.05333222, 0.02955774, 0.01251012], dtype=float32)"
      ]
     },
     "execution_count": 41,
     "metadata": {},
     "output_type": "execute_result"
    }
   ],
   "source": [
    "graph = xgb.to_graphviz(clf, num_trees=1)\n",
    "clf.feature_importances_"
   ]
  },
  {
   "cell_type": "code",
   "execution_count": 42,
   "id": "fe865dbe",
   "metadata": {},
   "outputs": [
    {
     "data": {
      "text/plain": [
       "'graph.png'"
      ]
     },
     "execution_count": 42,
     "metadata": {},
     "output_type": "execute_result"
    }
   ],
   "source": [
    "format = 'png'\n",
    "\n",
    "graph.graph_attr = {'dpi':'400'}\n",
    "\n",
    "graph.render('graph', format = format)"
   ]
  },
  {
   "cell_type": "code",
   "execution_count": 43,
   "id": "98144dde",
   "metadata": {},
   "outputs": [],
   "source": [
    "plt.show()"
   ]
  },
  {
   "cell_type": "code",
   "execution_count": 44,
   "id": "0fb10d7c",
   "metadata": {},
   "outputs": [],
   "source": [
    "test_y = clf.predict(test_X)"
   ]
  },
  {
   "cell_type": "code",
   "execution_count": 45,
   "id": "8dba47c1",
   "metadata": {},
   "outputs": [
    {
     "name": "stdout",
     "output_type": "stream",
     "text": [
      "[0 0 0 ... 1 0 0]\n"
     ]
    }
   ],
   "source": [
    "print(test_y)"
   ]
  },
  {
   "cell_type": "markdown",
   "id": "61c85a8a",
   "metadata": {},
   "source": [
    "## Random Forest"
   ]
  },
  {
   "cell_type": "code",
   "execution_count": 46,
   "id": "57fb9dfa",
   "metadata": {},
   "outputs": [
    {
     "name": "stdout",
     "output_type": "stream",
     "text": [
      "[04:04:03] WARNING: C:/Users/Administrator/workspace/xgboost-win64_release_1.5.1/src/learner.cc:576: \n",
      "Parameters: { \"max_features\", \"ranodm_state\" } might not be used.\n",
      "\n",
      "  This could be a false alarm, with some parameters getting used by language bindings but\n",
      "  then being mistakenly passed down to XGBoost core, or some parameter actually being used\n",
      "  but getting flagged wrongly here. Please open an issue if you find any such cases.\n",
      "\n",
      "\n"
     ]
    }
   ],
   "source": [
    "xgbr = xgb.XGBRFRegressor(n_estimators = 100, max_features = 5, ranodm_state =42).fit(train_X,train_y)"
   ]
  },
  {
   "cell_type": "code",
   "execution_count": 47,
   "id": "697f8006",
   "metadata": {},
   "outputs": [
    {
     "name": "stdout",
     "output_type": "stream",
     "text": [
      "[0. 0. 0. ... 1. 0. 0.]\n"
     ]
    }
   ],
   "source": [
    "test_y2 = xgbr.predict(test_X)\n",
    "test_y2 = np.where(test_y2 > 0.5, 1, test_y2)\n",
    "test_y2 = np.where(test_y2 <= 0.5, 0, test_y2)\n",
    "print(test_y2)"
   ]
  },
  {
   "cell_type": "markdown",
   "id": "3c6afe8d",
   "metadata": {},
   "source": [
    "# Result"
   ]
  },
  {
   "cell_type": "code",
   "execution_count": 48,
   "id": "7b8f7f12",
   "metadata": {},
   "outputs": [],
   "source": [
    "import csv"
   ]
  },
  {
   "cell_type": "code",
   "execution_count": 49,
   "id": "d2f8ba7e",
   "metadata": {},
   "outputs": [],
   "source": [
    "f = open('test_y_xgb.csv','w', newline='')\n",
    "wr = csv.writer(f)\n",
    "i = 1\n",
    "wr.writerow([\"ID\",\"Prediction\"])\n",
    "for item in test_y:\n",
    "    wr.writerow([i,item])\n",
    "    i+=1\n",
    " \n",
    "f.close()"
   ]
  },
  {
   "cell_type": "code",
   "execution_count": 34,
   "id": "08ccc968",
   "metadata": {},
   "outputs": [],
   "source": [
    "f = open('test_y_xgbrf.csv','w', newline='')\n",
    "wr = csv.writer(f)\n",
    "i = 1\n",
    "wr.writerow([\"ID\",\"Prediction\"])\n",
    "for item in test_y2:\n",
    "    wr.writerow([i,item])\n",
    "    i+=1\n",
    " \n",
    "f.close()"
   ]
  },
  {
   "cell_type": "code",
   "execution_count": 35,
   "id": "e7b69637",
   "metadata": {},
   "outputs": [
    {
     "name": "stdout",
     "output_type": "stream",
     "text": [
      "(25000, 14)\n"
     ]
    }
   ],
   "source": [
    "print(train_X.shape)"
   ]
  },
  {
   "cell_type": "code",
   "execution_count": 36,
   "id": "70e43a6d",
   "metadata": {},
   "outputs": [
    {
     "name": "stdout",
     "output_type": "stream",
     "text": [
      "(23842, 14)\n"
     ]
    }
   ],
   "source": [
    "print(test_X.shape)"
   ]
  },
  {
   "cell_type": "code",
   "execution_count": null,
   "id": "29a32ca9",
   "metadata": {},
   "outputs": [],
   "source": []
  }
 ],
 "metadata": {
  "kernelspec": {
   "display_name": "Python 3",
   "language": "python",
   "name": "python3"
  },
  "language_info": {
   "codemirror_mode": {
    "name": "ipython",
    "version": 3
   },
   "file_extension": ".py",
   "mimetype": "text/x-python",
   "name": "python",
   "nbconvert_exporter": "python",
   "pygments_lexer": "ipython3",
   "version": "3.8.8"
  }
 },
 "nbformat": 4,
 "nbformat_minor": 5
}
